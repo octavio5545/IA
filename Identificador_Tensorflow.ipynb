{
 "cells": [
  {
   "cell_type": "markdown",
   "metadata": {},
   "source": [
    "# Identificador de personas\n",
    "\n",
    "### Autor: Jesús Octavio García Flores"
   ]
  },
  {
   "cell_type": "markdown",
   "metadata": {},
   "source": [
    "El objetivo de este trabajo es recrear un identificador de personas mediante el uso de algoritmos de IA. Se utiliza como base el framework de **Tensorflow** y la idea se ha tomado de este tutorial: [Reconocimiento facial](https://www.youtube.com/watch?v=23z9BijlrTs). Se logró obtener el reconocimiento de personas, pero sólo se logró hacerlo por una a la vez y no es muy preciso. Es decir, si se ejecuta el código, captura el rostro de la persona en ese momento y genera la identificación, pero si se incluye a otra persona en la imagen, ésta no será reconocida y si ya se hizo la identificación de alguien y se cambia la persona con la cámara ejecutándose, mantendrá el nombre de la persona anterior. Para que la segunda persona sea identificada, debe cerrarse la cámara e iniciarla de nuevo ejecutando las líneas de código img_predict() y reconociendo(). La implementación de patrones específicos de reconocimiento facial ayuda muchísimo y no incluirlos en este trabajo merma la precisión."
   ]
  },
  {
   "cell_type": "markdown",
   "metadata": {},
   "source": [
    "## ¿Cómo aplicarlo?"
   ]
  },
  {
   "cell_type": "markdown",
   "metadata": {},
   "source": [
    "### Vamos a utilizar unas herramientas de la biblioteca de [OpenCV](https://docs.opencv.org/master/).\n",
    "(para intalar ver [Instalar OpenCV](https://docs.opencv.org/master/da/df6/tutorial_py_table_of_contents_setup.html))\n",
    "\n",
    "Podemos descargar o clonar los archivos desde este [repositorio de github](https://github.com/jorge190588/face_recognitionOpenCv2).\n",
    "\n",
    "En mi caso descargué el zip y descomprimí el archivo en la carpeta **\"Proyecto\"**. Copié el archivo llamado **\"dataset.py\"** que se encuentra en la carpeta descomprimida (**\"face_recognitionOpenCv2-master\"**) y lo pegué directamente una escala arriba (es decir, en la carpeta del proyecto directamente). Modifiqué el archivo **\"dataset.py\"** y lo renombré como **\"camara.py\"** y le hice un par de modificaciones extras:\n",
    "- El código lo metì en una función: para generar una carpeta con el nombre de la persona a identificar y almacenar las imágenes crrespondientes.\n",
    "- Modifiqué el path del **\"cascPath\"** por que usaré el archivo **\"haarcascade_frontalface_default.xml\"** (de reconocimiento de rostro frontal) que está en **\"face_recognitionOpenCv2-master/Cascade\"**.\n",
    "- En el archivo original **\"dataset.py\"** la ruta para las carpetas de imágenes ya tiene un nombre específico (Eduardo) y cada que se entrena con una persona diferente se debe cambiar manualmete esta ruta, entrando al archivo y escribiendo el nombre de la persona nueva. Aunque no cuesta mucho trabajo, preferí agregar una variable con el nombre para tener el cambio \"más a la mano\".\n",
    "- Hice lo mismo para el número de imágenes que tomará la cámara.\n",
    "- Desafortunadamente, aún se deben anexar manualmente los nombres de las personas a identificar."
   ]
  },
  {
   "cell_type": "markdown",
   "metadata": {},
   "source": [
    "Con las característics actuales de este código hay que hacer lo siguiente:\n",
    "\n",
    "- Vamos a ejecutar celda por celda. Iniciamos por la carga de las librerías.\n",
    "- Escribe tu nombre en la variable 'name', ejecuta esa celda y la siguiente.\n",
    "- Manteniendo la vista hacia la cámara de la computadora ejecuta la celda de captura de imágenes y espera a que el sistema cierre la cámara (puedes hacer algunos gestos, como sonreir o muecas, para darle variedad al entrenamiento).\n",
    "- Ejecuta las siuientes 4 celdas de la Arquitectura de la red de entrenamiento. La cuarta de estas celdas da la información de los nombres (etiquetas) de cada persona almacenada en el directorio de imágenes (se ordenan en orden alfabético). Éstas las usaremos más adelante.\n",
    "- En la sección de 'Modelo y entrenamiento' corre las primeras 3 celdas y espera a que la red se entrene.\n",
    "- Terminando el entrenamiento, ejecuta la siguiente celda para guardar el modelo.\n",
    "- La celda enseguida contiene el algoritmo de predicción que debemos modificar. Haremos uso de las etiquetas asignadas a cada persona (su nombre) que se nos proporcionó con 'train.class_indices'. Respetando el orden proporcionado por 'train.class_indices' vamos a modificar si es necesario los **if**. En principio a 'Elon_Musk' le corresponde la variable cero, a 'Karla' la variable 1, a 'Octavio' 2 y a 'Wolowitz' 3. Si queremos agregar a otra persona entonces repetimos el proceso desde el inicio y utilizamos las etiquetas que 'train.class_indices' nos de. \n",
    "- Una vez modificados los **if** del paso anterior, ejecutamos dicha celda y las dos siguientes.\n",
    "- Finalmente, mirando hacia la cámara nuevamente ejecutamos la última celda (Para cerrar y finalizar la cámara hay que oprimir **q** minúscula)."
   ]
  },
  {
   "cell_type": "markdown",
   "metadata": {},
   "source": [
    "### Importanto las librerías"
   ]
  },
  {
   "cell_type": "code",
   "execution_count": 1,
   "metadata": {
    "scrolled": false
   },
   "outputs": [
    {
     "name": "stderr",
     "output_type": "stream",
     "text": [
      "Using TensorFlow backend.\n",
      "C:\\Users\\octav\\Anaconda3\\lib\\site-packages\\tensorflow\\python\\framework\\dtypes.py:526: FutureWarning: Passing (type, 1) or '1type' as a synonym of type is deprecated; in a future version of numpy, it will be understood as (type, (1,)) / '(1,)type'.\n",
      "  _np_qint8 = np.dtype([(\"qint8\", np.int8, 1)])\n",
      "C:\\Users\\octav\\Anaconda3\\lib\\site-packages\\tensorflow\\python\\framework\\dtypes.py:527: FutureWarning: Passing (type, 1) or '1type' as a synonym of type is deprecated; in a future version of numpy, it will be understood as (type, (1,)) / '(1,)type'.\n",
      "  _np_quint8 = np.dtype([(\"quint8\", np.uint8, 1)])\n",
      "C:\\Users\\octav\\Anaconda3\\lib\\site-packages\\tensorflow\\python\\framework\\dtypes.py:528: FutureWarning: Passing (type, 1) or '1type' as a synonym of type is deprecated; in a future version of numpy, it will be understood as (type, (1,)) / '(1,)type'.\n",
      "  _np_qint16 = np.dtype([(\"qint16\", np.int16, 1)])\n",
      "C:\\Users\\octav\\Anaconda3\\lib\\site-packages\\tensorflow\\python\\framework\\dtypes.py:529: FutureWarning: Passing (type, 1) or '1type' as a synonym of type is deprecated; in a future version of numpy, it will be understood as (type, (1,)) / '(1,)type'.\n",
      "  _np_quint16 = np.dtype([(\"quint16\", np.uint16, 1)])\n",
      "C:\\Users\\octav\\Anaconda3\\lib\\site-packages\\tensorflow\\python\\framework\\dtypes.py:530: FutureWarning: Passing (type, 1) or '1type' as a synonym of type is deprecated; in a future version of numpy, it will be understood as (type, (1,)) / '(1,)type'.\n",
      "  _np_qint32 = np.dtype([(\"qint32\", np.int32, 1)])\n",
      "C:\\Users\\octav\\Anaconda3\\lib\\site-packages\\tensorflow\\python\\framework\\dtypes.py:535: FutureWarning: Passing (type, 1) or '1type' as a synonym of type is deprecated; in a future version of numpy, it will be understood as (type, (1,)) / '(1,)type'.\n",
      "  np_resource = np.dtype([(\"resource\", np.ubyte, 1)])\n"
     ]
    }
   ],
   "source": [
    "import os\n",
    "import sys\n",
    "import cv2\n",
    "import numpy as np\n",
    "from internal_functions import *\n",
    "\n",
    "from keras.utils import plot_model\n",
    "from tensorflow.keras import optimizers\n",
    "from tensorflow.keras import applications\n",
    "from tensorflow.keras import backend as K\n",
    "from tensorflow.keras.models import Sequential\n",
    "from tensorflow.keras.layers import  Convolution2D, MaxPooling2D\n",
    "from tensorflow.keras.preprocessing.image import ImageDataGenerator\n",
    "from tensorflow.keras.layers import Dropout, Flatten, Dense, Activation\n",
    "\n",
    "import matplotlib.image as img\n",
    "import matplotlib.pyplot as plt"
   ]
  },
  {
   "cell_type": "markdown",
   "metadata": {},
   "source": [
    "### Creamos  las imágenes con el nombre de la persona y el número de imágenes que queremos almacenar (mínimo 250 en este caso)."
   ]
  },
  {
   "cell_type": "code",
   "execution_count": 2,
   "metadata": {},
   "outputs": [],
   "source": [
    "name= \"Octavio\"\n",
    "num_img = 250"
   ]
  },
  {
   "cell_type": "code",
   "execution_count": 3,
   "metadata": {},
   "outputs": [],
   "source": [
    "# Crea la carpeta con nombre definido en name\n",
    "filepath_cam = os.path.join(os.getcwd(), 'images\\\\' + name)\n",
    "if not os.path.isdir(filepath_cam):\n",
    "    os.makedirs(filepath_cam) \n",
    "\n",
    "# Crea una carpeta para hacer la identificación\n",
    "filepath_predict = os.path.join(os.getcwd(), 'predict')\n",
    "if not os.path.isdir(filepath_predict):\n",
    "    os.makedirs(filepath_predict) "
   ]
  },
  {
   "cell_type": "markdown",
   "metadata": {},
   "source": [
    "##### Captura de imágenes"
   ]
  },
  {
   "cell_type": "code",
   "execution_count": 4,
   "metadata": {},
   "outputs": [],
   "source": [
    "#Con OpenCV hacemos las capturas con la cámara del equipo\n",
    "if (100 <= num_img <= 500):\n",
    "    capturas(name, num_img)  # Crea las imágenes (con diferentes tamaños)\n",
    "else:\n",
    "    print(\"El mínimo de imágenes debe ser 200 y el máximo de 500\")\n"
   ]
  },
  {
   "cell_type": "markdown",
   "metadata": {},
   "source": [
    "## Arquitectura"
   ]
  },
  {
   "cell_type": "markdown",
   "metadata": {},
   "source": [
    "Voy a entrenar una red para que aprenda a identificar los rostros como si de clasificación de imágenes se tratara. Es decir, no voy a implementar rasgos característicos avanzados como puntos estreatégicos (labios, ojos, pestañas, comisuras...).\n",
    "- [Clasificar imágenes](https://www.tensorflow.org/tutorials/images/cnn)"
   ]
  },
  {
   "cell_type": "code",
   "execution_count": 2,
   "metadata": {},
   "outputs": [],
   "source": [
    "#Algoritmo de entrenamiento (training.py)\n",
    "\n",
    "#Inicializamos los hiperparámetros\n",
    "\n",
    "K.clear_session()\n",
    "\n",
    "path_imgs = os.path.join(os.getcwd(), 'images\\\\')\n",
    "\n",
    "lr = 0.001\n",
    "epochs = 100\n",
    "input_shape = (64, 64, 3)\n",
    "batch_size = 32\n",
    "steps = 1000\n",
    "val_steps = 200\n",
    "dim_filtro1 = (4, 4)\n",
    "dim_filtro2 = (3, 3)\n",
    "dim_pool = (2, 2)\n",
    "clases = len(os.listdir(path_imgs))"
   ]
  },
  {
   "cell_type": "code",
   "execution_count": 3,
   "metadata": {},
   "outputs": [],
   "source": [
    "#Prepara las variables para generar las imágenes de entrenamento y prueba\n",
    "training_data = ImageDataGenerator(\n",
    "    rescale=1. / 255,\n",
    "    rotation_range=0.4, #Por si llegamos a girar un poco la cabeza\n",
    "    shear_range=3.5,     #Por si estamos muy lejos\n",
    "    validation_split=0.1, #20% de imágenes de test\n",
    "     )"
   ]
  },
  {
   "cell_type": "code",
   "execution_count": 4,
   "metadata": {},
   "outputs": [
    {
     "name": "stdout",
     "output_type": "stream",
     "text": [
      "Found 752 images belonging to 3 classes.\n"
     ]
    }
   ],
   "source": [
    "#Genera el conjunto de datos\n",
    "train = training_data.flow_from_directory(\n",
    "    path_imgs,\n",
    "    target_size=(input_shape[0], input_shape[1]),\n",
    "    class_mode='categorical', \n",
    "    batch_size=batch_size\n",
    ")"
   ]
  },
  {
   "cell_type": "code",
   "execution_count": 5,
   "metadata": {},
   "outputs": [
    {
     "data": {
      "text/plain": [
       "{'Elon_Musk': 0, 'Octavio': 1, 'Wolowitz': 2}"
      ]
     },
     "execution_count": 5,
     "metadata": {},
     "output_type": "execute_result"
    }
   ],
   "source": [
    "train.class_indices"
   ]
  },
  {
   "cell_type": "markdown",
   "metadata": {},
   "source": [
    "### Modelo y entrenamiento (red CNN)\n"
   ]
  },
  {
   "cell_type": "code",
   "execution_count": 9,
   "metadata": {
    "scrolled": true
   },
   "outputs": [
    {
     "name": "stdout",
     "output_type": "stream",
     "text": [
      "WARNING:tensorflow:From C:\\Users\\octav\\Anaconda3\\lib\\site-packages\\tensorflow\\python\\ops\\resource_variable_ops.py:435: colocate_with (from tensorflow.python.framework.ops) is deprecated and will be removed in a future version.\n",
      "Instructions for updating:\n",
      "Colocations handled automatically by placer.\n",
      "WARNING:tensorflow:From C:\\Users\\octav\\Anaconda3\\lib\\site-packages\\tensorflow\\python\\keras\\layers\\core.py:143: calling dropout (from tensorflow.python.ops.nn_ops) with keep_prob is deprecated and will be removed in a future version.\n",
      "Instructions for updating:\n",
      "Please use `rate` instead of `keep_prob`. Rate should be set to `rate = 1 - keep_prob`.\n"
     ]
    },
    {
     "data": {
      "image/png": "[encoded data removed]",
      "text/plain": [
       "<IPython.core.display.Image object>"
      ]
     },
     "execution_count": 9,
     "metadata": {},
     "output_type": "execute_result"
    }
   ],
   "source": [
    "model = Sequential()\n",
    "\n",
    "#Input layer\n",
    "model.add(Convolution2D(16, dim_filtro1, padding =\"same\", input_shape=input_shape, activation='relu'))\n",
    "model.add(MaxPooling2D(pool_size = dim_pool))\n",
    "\n",
    "model.add(Convolution2D(32, dim_filtro2, padding =\"same\", activation='relu'))\n",
    "model.add(MaxPooling2D(pool_size=dim_pool))\n",
    "\n",
    "model.add(Flatten())\n",
    "\n",
    "model.add(Dense(250, activation='relu'))\n",
    "model.add(Dropout(0.3))\n",
    "\n",
    "model.add(Dense(250, activation='relu'))\n",
    "model.add(Dropout(0.5))\n",
    "\n",
    "model.add(Dense(clases, activation='softmax'))\n",
    "\n",
    "\n",
    "#Compilación\n",
    "model.compile(loss='categorical_crossentropy', optimizer=optimizers.Adam(lr=lr), metrics=['accuracy'])\n",
    "\n",
    "#Imagen del modelo\n",
    "plot_model(model, to_file='model.png', show_shapes=True, rankdir='TB', expand_nested=True, show_layer_names=True, dpi=96)\n"
   ]
  },
  {
   "cell_type": "code",
   "execution_count": 10,
   "metadata": {},
   "outputs": [
    {
     "name": "stdout",
     "output_type": "stream",
     "text": [
      "_________________________________________________________________\n",
      "Layer (type)                 Output Shape              Param #   \n",
      "=================================================================\n",
      "conv2d (Conv2D)              (None, 64, 64, 16)        784       \n",
      "_________________________________________________________________\n",
      "max_pooling2d (MaxPooling2D) (None, 32, 32, 16)        0         \n",
      "_________________________________________________________________\n",
      "conv2d_1 (Conv2D)            (None, 32, 32, 32)        4640      \n",
      "_________________________________________________________________\n",
      "max_pooling2d_1 (MaxPooling2 (None, 16, 16, 32)        0         \n",
      "_________________________________________________________________\n",
      "flatten (Flatten)            (None, 8192)              0         \n",
      "_________________________________________________________________\n",
      "dense (Dense)                (None, 250)               2048250   \n",
      "_________________________________________________________________\n",
      "dropout (Dropout)            (None, 250)               0         \n",
      "_________________________________________________________________\n",
      "dense_1 (Dense)              (None, 250)               62750     \n",
      "_________________________________________________________________\n",
      "dropout_1 (Dropout)          (None, 250)               0         \n",
      "_________________________________________________________________\n",
      "dense_2 (Dense)              (None, 4)                 1004      \n",
      "=================================================================\n",
      "Total params: 2,117,428\n",
      "Trainable params: 2,117,428\n",
      "Non-trainable params: 0\n",
      "_________________________________________________________________\n"
     ]
    }
   ],
   "source": [
    "model.summary()"
   ]
  },
  {
   "cell_type": "code",
   "execution_count": 11,
   "metadata": {
    "scrolled": true
   },
   "outputs": [
    {
     "name": "stdout",
     "output_type": "stream",
     "text": [
      "WARNING:tensorflow:From C:\\Users\\octav\\Anaconda3\\lib\\site-packages\\tensorflow\\python\\ops\\math_ops.py:3066: to_int32 (from tensorflow.python.ops.math_ops) is deprecated and will be removed in a future version.\n",
      "Instructions for updating:\n",
      "Use tf.cast instead.\n",
      "Epoch 1/100\n",
      "32/32 [==============================] - 5s 158ms/step - loss: 0.7075 - acc: 0.7009\n",
      "Epoch 2/100\n",
      "32/32 [==============================] - 4s 125ms/step - loss: 0.0346 - acc: 0.9880\n",
      "Epoch 3/100\n",
      "32/32 [==============================] - 4s 124ms/step - loss: 0.0113 - acc: 0.9970\n",
      "Epoch 4/100\n",
      "32/32 [==============================] - 4s 124ms/step - loss: 0.0046 - acc: 1.0000\n",
      "Epoch 5/100\n",
      "32/32 [==============================] - 5s 151ms/step - loss: 0.0019 - acc: 1.0000\n",
      "Epoch 6/100\n",
      "32/32 [==============================] - 5s 156ms/step - loss: 3.8220e-04 - acc: 1.0000\n",
      "Epoch 7/100\n",
      "32/32 [==============================] - 5s 152ms/step - loss: 1.8541e-04 - acc: 1.0000\n",
      "Epoch 8/100\n",
      "32/32 [==============================] - 5s 153ms/step - loss: 2.5952e-04 - acc: 1.0000\n",
      "Epoch 9/100\n",
      "32/32 [==============================] - 5s 154ms/step - loss: 1.0000e-04 - acc: 1.0000\n",
      "Epoch 10/100\n",
      "32/32 [==============================] - 5s 154ms/step - loss: 9.5356e-05 - acc: 1.0000\n",
      "Epoch 11/100\n",
      "32/32 [==============================] - 5s 152ms/step - loss: 1.1287e-04 - acc: 1.0000\n",
      "Epoch 12/100\n",
      "32/32 [==============================] - 5s 153ms/step - loss: 0.0011 - acc: 1.0000\n",
      "Epoch 13/100\n",
      "32/32 [==============================] - 5s 151ms/step - loss: 0.0173 - acc: 0.9950\n",
      "Epoch 14/100\n",
      "32/32 [==============================] - 5s 151ms/step - loss: 0.0135 - acc: 0.9960\n",
      "Epoch 15/100\n",
      "32/32 [==============================] - 5s 154ms/step - loss: 0.0172 - acc: 0.9960\n",
      "Epoch 16/100\n",
      "32/32 [==============================] - 5s 156ms/step - loss: 0.0012 - acc: 1.0000\n",
      "Epoch 17/100\n",
      "32/32 [==============================] - 5s 151ms/step - loss: 2.8813e-04 - acc: 1.0000\n",
      "Epoch 18/100\n",
      "32/32 [==============================] - 5s 153ms/step - loss: 8.2084e-05 - acc: 1.0000\n",
      "Epoch 19/100\n",
      "32/32 [==============================] - 5s 152ms/step - loss: 5.3578e-05 - acc: 1.0000\n",
      "Epoch 20/100\n",
      "32/32 [==============================] - 5s 151ms/step - loss: 3.4612e-05 - acc: 1.0000\n",
      "Epoch 21/100\n",
      "32/32 [==============================] - 5s 151ms/step - loss: 3.5634e-05 - acc: 1.0000\n",
      "Epoch 22/100\n",
      "32/32 [==============================] - 5s 154ms/step - loss: 4.6540e-05 - acc: 1.0000\n",
      "Epoch 23/100\n",
      "32/32 [==============================] - 5s 150ms/step - loss: 8.1150e-05 - acc: 1.0000\n",
      "Epoch 24/100\n",
      "32/32 [==============================] - 5s 158ms/step - loss: 2.5550e-05 - acc: 1.0000\n",
      "Epoch 25/100\n",
      "32/32 [==============================] - 5s 152ms/step - loss: 1.1369e-05 - acc: 1.0000\n",
      "Epoch 26/100\n",
      "32/32 [==============================] - 5s 152ms/step - loss: 1.4594e-05 - acc: 1.0000\n",
      "Epoch 27/100\n",
      "32/32 [==============================] - 5s 156ms/step - loss: 8.4475e-06 - acc: 1.0000\n",
      "Epoch 28/100\n",
      "32/32 [==============================] - 5s 153ms/step - loss: 7.9811e-06 - acc: 1.0000\n",
      "Epoch 29/100\n",
      "32/32 [==============================] - 5s 151ms/step - loss: 1.0635e-05 - acc: 1.0000\n",
      "Epoch 30/100\n",
      "32/32 [==============================] - 5s 149ms/step - loss: 9.6304e-06 - acc: 1.0000\n",
      "Epoch 31/100\n",
      "32/32 [==============================] - 5s 151ms/step - loss: 4.8253e-06 - acc: 1.0000\n",
      "Epoch 32/100\n",
      "32/32 [==============================] - 5s 154ms/step - loss: 1.0975e-05 - acc: 1.0000\n",
      "Epoch 33/100\n",
      "32/32 [==============================] - 5s 151ms/step - loss: 7.2407e-06 - acc: 1.0000\n",
      "Epoch 34/100\n",
      "32/32 [==============================] - 5s 151ms/step - loss: 1.6493e-05 - acc: 1.0000\n",
      "Epoch 35/100\n",
      "32/32 [==============================] - 5s 154ms/step - loss: 1.3835e-05 - acc: 1.0000\n",
      "Epoch 36/100\n",
      "32/32 [==============================] - 5s 153ms/step - loss: 6.0258e-06 - acc: 1.0000\n",
      "Epoch 37/100\n",
      "32/32 [==============================] - 5s 151ms/step - loss: 2.5305e-04 - acc: 1.0000\n",
      "Epoch 38/100\n",
      "32/32 [==============================] - 5s 155ms/step - loss: 0.0011 - acc: 1.0000\n",
      "Epoch 39/100\n",
      "32/32 [==============================] - 5s 151ms/step - loss: 2.2024e-04 - acc: 1.0000\n",
      "Epoch 40/100\n",
      "32/32 [==============================] - 5s 152ms/step - loss: 3.8696e-04 - acc: 1.0000\n",
      "Epoch 41/100\n",
      "32/32 [==============================] - 5s 152ms/step - loss: 1.8103e-04 - acc: 1.0000\n",
      "Epoch 42/100\n",
      "32/32 [==============================] - 5s 152ms/step - loss: 5.2570e-05 - acc: 1.0000\n",
      "Epoch 43/100\n",
      "32/32 [==============================] - 5s 152ms/step - loss: 3.2316e-05 - acc: 1.0000\n",
      "Epoch 44/100\n",
      "32/32 [==============================] - 5s 153ms/step - loss: 4.1141e-05 - acc: 1.0000\n",
      "Epoch 45/100\n",
      "32/32 [==============================] - 5s 159ms/step - loss: 3.2122e-05 - acc: 1.0000\n",
      "Epoch 46/100\n",
      "32/32 [==============================] - 5s 154ms/step - loss: 6.3180e-05 - acc: 1.0000\n",
      "Epoch 47/100\n",
      "32/32 [==============================] - 5s 156ms/step - loss: 7.3186e-06 - acc: 1.0000\n",
      "Epoch 48/100\n",
      "32/32 [==============================] - 5s 157ms/step - loss: 2.9092e-05 - acc: 1.0000\n",
      "Epoch 49/100\n",
      "32/32 [==============================] - 5s 153ms/step - loss: 7.2059e-06 - acc: 1.0000\n",
      "Epoch 50/100\n",
      "32/32 [==============================] - 5s 151ms/step - loss: 1.3561e-05 - acc: 1.0000\n",
      "Epoch 51/100\n",
      "32/32 [==============================] - 5s 155ms/step - loss: 2.8779e-06 - acc: 1.0000\n",
      "Epoch 52/100\n",
      "32/32 [==============================] - 5s 151ms/step - loss: 6.4712e-06 - acc: 1.0000\n",
      "Epoch 53/100\n",
      "32/32 [==============================] - 5s 151ms/step - loss: 3.8404e-06 - acc: 1.0000\n",
      "Epoch 54/100\n",
      "32/32 [==============================] - 5s 151ms/step - loss: 1.8632e-05 - acc: 1.0000\n",
      "Epoch 55/100\n",
      "32/32 [==============================] - 5s 155ms/step - loss: 2.0524e-06 - acc: 1.0000\n",
      "Epoch 56/100\n",
      "32/32 [==============================] - 5s 151ms/step - loss: 2.4895e-06 - acc: 1.0000\n",
      "Epoch 57/100\n",
      "32/32 [==============================] - 5s 155ms/step - loss: 1.1593e-06 - acc: 1.0000\n",
      "Epoch 58/100\n",
      "32/32 [==============================] - 5s 157ms/step - loss: 2.6813e-06 - acc: 1.0000\n",
      "Epoch 59/100\n",
      "32/32 [==============================] - 5s 152ms/step - loss: 5.7988e-06 - acc: 1.0000\n",
      "Epoch 60/100\n",
      "32/32 [==============================] - 5s 152ms/step - loss: 3.3810e-06 - acc: 1.0000\n",
      "Epoch 61/100\n",
      "32/32 [==============================] - 5s 153ms/step - loss: 7.8857e-06 - acc: 1.0000\n",
      "Epoch 62/100\n",
      "32/32 [==============================] - 5s 152ms/step - loss: 8.5544e-07 - acc: 1.0000\n",
      "Epoch 63/100\n",
      "32/32 [==============================] - 5s 155ms/step - loss: 1.4396e-06 - acc: 1.0000\n",
      "Epoch 64/100\n",
      "32/32 [==============================] - 5s 153ms/step - loss: 6.5960e-06 - acc: 1.0000\n",
      "Epoch 65/100\n",
      "32/32 [==============================] - 5s 155ms/step - loss: 1.8525e-04 - acc: 1.0000\n",
      "Epoch 66/100\n",
      "32/32 [==============================] - 5s 154ms/step - loss: 2.6826e-04 - acc: 1.0000\n",
      "Epoch 67/100\n",
      "32/32 [==============================] - 5s 154ms/step - loss: 2.7168e-05 - acc: 1.0000\n",
      "Epoch 68/100\n",
      "32/32 [==============================] - 5s 156ms/step - loss: 1.8336e-05 - acc: 1.0000\n",
      "Epoch 69/100\n",
      "32/32 [==============================] - 5s 157ms/step - loss: 7.8490e-06 - acc: 1.0000\n",
      "Epoch 70/100\n",
      "32/32 [==============================] - 5s 156ms/step - loss: 8.6277e-06 - acc: 1.0000\n",
      "Epoch 71/100\n",
      "32/32 [==============================] - 5s 153ms/step - loss: 7.3901e-06 - acc: 1.0000\n",
      "Epoch 72/100\n",
      "32/32 [==============================] - 5s 154ms/step - loss: 1.5170e-05 - acc: 1.0000\n",
      "Epoch 73/100\n",
      "32/32 [==============================] - 5s 154ms/step - loss: 0.0037 - acc: 0.9980\n",
      "Epoch 74/100\n",
      "32/32 [==============================] - 5s 154ms/step - loss: 0.0047 - acc: 0.9980\n",
      "Epoch 75/100\n",
      "32/32 [==============================] - 5s 156ms/step - loss: 0.0105 - acc: 0.9960\n",
      "Epoch 76/100\n",
      "32/32 [==============================] - 5s 156ms/step - loss: 0.0305 - acc: 0.9940\n",
      "Epoch 77/100\n",
      "32/32 [==============================] - 5s 153ms/step - loss: 0.0016 - acc: 1.0000\n",
      "Epoch 78/100\n",
      "32/32 [==============================] - 5s 153ms/step - loss: 3.1754e-04 - acc: 1.0000\n",
      "Epoch 79/100\n",
      "32/32 [==============================] - 5s 154ms/step - loss: 3.6490e-05 - acc: 1.0000\n",
      "Epoch 80/100\n",
      "32/32 [==============================] - 5s 151ms/step - loss: 9.2794e-05 - acc: 1.0000\n",
      "Epoch 81/100\n",
      "32/32 [==============================] - 5s 153ms/step - loss: 5.8479e-06 - acc: 1.0000\n",
      "Epoch 82/100\n",
      "32/32 [==============================] - 5s 156ms/step - loss: 3.7210e-06 - acc: 1.0000\n",
      "Epoch 83/100\n",
      "32/32 [==============================] - 5s 158ms/step - loss: 5.2690e-05 - acc: 1.0000\n",
      "Epoch 84/100\n",
      "32/32 [==============================] - 5s 156ms/step - loss: 3.4800e-06 - acc: 1.0000\n",
      "Epoch 85/100\n",
      "32/32 [==============================] - 5s 153ms/step - loss: 5.3591e-05 - acc: 1.0000\n",
      "Epoch 86/100\n",
      "32/32 [==============================] - 5s 155ms/step - loss: 1.6477e-05 - acc: 1.0000\n",
      "Epoch 87/100\n",
      "32/32 [==============================] - 5s 155ms/step - loss: 1.0814e-06 - acc: 1.0000\n",
      "Epoch 88/100\n",
      "32/32 [==============================] - 5s 153ms/step - loss: 4.3591e-06 - acc: 1.0000\n",
      "Epoch 89/100\n",
      "32/32 [==============================] - 5s 151ms/step - loss: 4.1522e-06 - acc: 1.0000\n",
      "Epoch 90/100\n",
      "32/32 [==============================] - 5s 152ms/step - loss: 1.8134e-06 - acc: 1.0000\n",
      "Epoch 91/100\n",
      "32/32 [==============================] - 5s 152ms/step - loss: 3.4591e-06 - acc: 1.0000\n",
      "Epoch 92/100\n",
      "32/32 [==============================] - 5s 152ms/step - loss: 1.3019e-06 - acc: 1.0000\n",
      "Epoch 93/100\n",
      "32/32 [==============================] - 5s 156ms/step - loss: 9.8351e-07 - acc: 1.0000\n",
      "Epoch 94/100\n",
      "32/32 [==============================] - 5s 150ms/step - loss: 1.3122e-06 - acc: 1.0000\n",
      "Epoch 95/100\n",
      "32/32 [==============================] - 4s 140ms/step - loss: 4.4684e-05 - acc: 1.0000\n",
      "Epoch 96/100\n",
      "32/32 [==============================] - 5s 148ms/step - loss: 3.6321e-07 - acc: 1.0000\n",
      "Epoch 97/100\n",
      "32/32 [==============================] - 5s 148ms/step - loss: 5.4252e-06 - acc: 1.0000\n",
      "Epoch 98/100\n",
      "32/32 [==============================] - 5s 154ms/step - loss: 1.6897e-06 - acc: 1.0000\n",
      "Epoch 99/100\n",
      "32/32 [==============================] - 5s 154ms/step - loss: 2.9983e-07 - acc: 1.0000\n",
      "Epoch 100/100\n",
      "32/32 [==============================] - 5s 153ms/step - loss: 3.2662e-07 - acc: 1.0000\n"
     ]
    },
    {
     "data": {
      "text/plain": [
       "<tensorflow.python.keras.callbacks.History at 0x27bd178f908>"
      ]
     },
     "execution_count": 11,
     "metadata": {},
     "output_type": "execute_result"
    }
   ],
   "source": [
    "#Entrenamiento\n",
    "model.fit(train, steps_per_epoch=steps, epochs=epochs, validation_steps=val_steps, validation_split=0.1)\n"
   ]
  },
  {
   "cell_type": "code",
   "execution_count": 12,
   "metadata": {},
   "outputs": [],
   "source": [
    "# Genera la carpeta donde guardamos el modelo\n",
    "filepath_model = os.path.join(os.getcwd(), 'model\\\\')\n",
    "if not os.path.isdir(filepath_model):\n",
    "    os.makedirs(filepath_model)\n",
    "\n",
    "model.save(os.path.join(filepath_model, 'identif_model.h5'))\n",
    "model.save_weights(os.path.join(filepath_model, 'identif_weights.h5'))"
   ]
  },
  {
   "cell_type": "code",
   "execution_count": 11,
   "metadata": {},
   "outputs": [
    {
     "name": "stdout",
     "output_type": "stream",
     "text": [
      "WARNING:tensorflow:From C:\\Users\\octav\\Anaconda3\\lib\\site-packages\\tensorflow\\python\\ops\\math_ops.py:3066: to_int32 (from tensorflow.python.ops.math_ops) is deprecated and will be removed in a future version.\n",
      "Instructions for updating:\n",
      "Use tf.cast instead.\n"
     ]
    }
   ],
   "source": [
    "#Algoritmo para hacer la predicción\n",
    "\n",
    "from tensorflow.keras.preprocessing.image import load_img, img_to_array\n",
    "from tensorflow.keras.models import load_model\n",
    "\n",
    "input_shape = (64, 64, 3)\n",
    "path_model = './model/identif_model.h5'\n",
    "path_weights = './model/identif_weights.h5'\n",
    "\n",
    "\n",
    "#Al modelo que guardamos le cargamos los pesos del entrenamiento\n",
    "model = load_model(path_model)\n",
    "model.load_weights(path_weights)\n",
    "\n",
    "#Generamos la predicción\n",
    "def prediction(img_name):\n",
    "    imagen = load_img(img_name, target_size=(input_shape[0], input_shape[1])) #Carga la imagen\n",
    "    imagen = img_to_array(imagen)  #La convierte en un arreglo\n",
    "    imagen = np.expand_dims(imagen, axis=0)\n",
    "    labels = model.predict(imagen)[0]  #Devuelve el vector de clases \n",
    "    label_img = np.argmax(labels)\n",
    "    \n",
    "    #print(labels)\n",
    "    #print(label_img)\n",
    "    \n",
    "    if label_img == 0:\n",
    "        label = 'Elon_Musk'\n",
    "    if label_img == 1:\n",
    "        label = 'Karla'\n",
    "    if label_img == 2:\n",
    "        label = 'Octavio'\n",
    "    if label_img == 3:\n",
    "        label = 'Wolowitz'\n",
    "        \n",
    "    return label   #Regresa el nombre de la persona (su etiqueta)"
   ]
  },
  {
   "cell_type": "code",
   "execution_count": 22,
   "metadata": {
    "scrolled": false
   },
   "outputs": [
    {
     "name": "stdout",
     "output_type": "stream",
     "text": [
      "Wolowitz\n",
      ".\\predict\\predict.jpg\n"
     ]
    }
   ],
   "source": [
    "\"\"\"\n",
    "#Esta celda sirvió como comprobación a la clasificación\n",
    "\n",
    "dir_name = 'predict'\n",
    "for image in os.listdir('.\\\\{}'.format(dir_name)):\n",
    "    predictions = prediction('.\\\\{}'.format(dir_name) + '\\\\' + image)\n",
    "    print(predictions)\n",
    "    print('.\\\\{}'.format(dir_name) + '\\\\' + image)\n",
    "\"\"\";"
   ]
  },
  {
   "cell_type": "code",
   "execution_count": 12,
   "metadata": {},
   "outputs": [],
   "source": [
    "def reconociendo():\n",
    "    \"\"\" Abre la cámara local\"\"\"\n",
    "    \n",
    "    web_cam = cv2.VideoCapture(0)\n",
    "\n",
    "    cascPath = \"face_recognitionOpenCv2-master/Cascades/haarcascade_frontalface_default.xml\"\n",
    "    faceCascade = cv2.CascadeClassifier(cascPath)\n",
    "    \n",
    "    for image in os.listdir('.\\\\predict'):\n",
    "        label = prediction('.\\\\predict'+ '\\\\' + image)\n",
    "    \n",
    "    while(True):\n",
    "        _, imagen_marco = web_cam.read()\n",
    "\n",
    "        rostro = faceCascade.detectMultiScale(imagen_marco, 1.5, 5)  #Detecta la cara de las personas\n",
    "        \n",
    "        \n",
    "        for(x,y,w,h) in rostro:  #rectángulos        \n",
    "\n",
    "            cv2.rectangle(imagen_marco, (x,y), (x+w, y+h), (0,200,0), 4)\n",
    "            cv2.putText(imagen_marco, label, org=(x-10,y-10), \n",
    "                        fontFace=cv2.LINE_AA, fontScale=1, color = (50,200,0), thickness=2)            \n",
    "\n",
    "            \n",
    "            cv2.imshow(\"Identificando\", imagen_marco)\n",
    "    \n",
    "\n",
    "        if cv2.waitKey(1) & 0xFF == ord('q'):  # Detiene la cámara presionando 'q'\n",
    "            break\n",
    "\n",
    "\n",
    "    # Cuando todo está hecho, liberamos la captura\n",
    "    web_cam.release()\n",
    "    cv2.destroyAllWindows()"
   ]
  },
  {
   "cell_type": "code",
   "execution_count": 14,
   "metadata": {},
   "outputs": [],
   "source": [
    "img_predict()\n",
    "reconociendo()"
   ]
  },
  {
   "cell_type": "code",
   "execution_count": null,
   "metadata": {},
   "outputs": [],
   "source": []
  }
 ],
 "metadata": {
  "kernelspec": {
   "display_name": "Python 3",
   "language": "python",
   "name": "python3"
  },
  "language_info": {
   "codemirror_mode": {
    "name": "ipython",
    "version": 3
   },
   "file_extension": ".py",
   "mimetype": "text/x-python",
   "name": "python",
   "nbconvert_exporter": "python",
   "pygments_lexer": "ipython3",
   "version": "3.7.0"
  }
 },
 "nbformat": 4,
 "nbformat_minor": 2
}
